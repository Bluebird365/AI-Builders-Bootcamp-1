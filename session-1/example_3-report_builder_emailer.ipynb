{
 "cells": [
  {
   "cell_type": "markdown",
   "metadata": {},
   "source": [
    "# Automated Report Builder and Emailer\n",
    "### ABB #1 - Session 1\n",
    "\n",
    "Code authored by: Shaw Talebi"
   ]
  },
  {
   "cell_type": "markdown",
   "metadata": {},
   "source": [
    "### imports"
   ]
  },
  {
   "cell_type": "code",
   "execution_count": 1,
   "metadata": {
    "jupyter": {
     "source_hidden": true
    }
   },
   "outputs": [],
   "source": [
    "import csv\n",
    "import pandas as pd\n",
    "\n",
    "import smtplib\n",
    "from email.mime.multipart import MIMEMultipart\n",
    "from email.mime.text import MIMEText\n",
    "\n",
    "from top_secret import app_password"
   ]
  },
  {
   "cell_type": "markdown",
   "metadata": {},
   "source": [
    "### load data"
   ]
  },
  {
   "cell_type": "markdown",
   "metadata": {},
   "source": [
    "#### read in emails"
   ]
  },
  {
   "cell_type": "code",
   "execution_count": 2,
   "metadata": {
    "jupyter": {
     "source_hidden": true
    }
   },
   "outputs": [
    {
     "name": "stdout",
     "output_type": "stream",
     "text": [
      "[('Shaw', 'shaw@example.com'), ('Luca', 'luca@example.com'), ('Elena', 'elena@example.com')]\n"
     ]
    }
   ],
   "source": [
    "# load contact info\n",
    "filename = \"data/emails.csv\"\n",
    "recipients_list = []\n",
    "\n",
    "# read CSV file and populate the recipients list\n",
    "with open(filename, mode='r') as csvfile:\n",
    "    csv_reader = csv.DictReader(csvfile)\n",
    "    for row in csv_reader:\n",
    "        name = row[\"Name\"].split(\" \")[0]\n",
    "        email = row[\"Email\"]\n",
    "        recipients_list.append((name, email))\n",
    "\n",
    "print(recipients_list)"
   ]
  },
  {
   "cell_type": "code",
   "execution_count": 3,
   "metadata": {
    "jupyter": {
     "source_hidden": true
    }
   },
   "outputs": [],
   "source": [
    "# recipients_list = [('Shaw', 'shawhintalebi@gmail.com')]"
   ]
  },
  {
   "cell_type": "markdown",
   "metadata": {},
   "source": [
    "#### read survey results"
   ]
  },
  {
   "cell_type": "code",
   "execution_count": 4,
   "metadata": {
    "jupyter": {
     "source_hidden": true
    }
   },
   "outputs": [],
   "source": [
    "filename = \"data/survey.csv\"\n",
    "df_survey = pd.read_csv(filename)"
   ]
  },
  {
   "cell_type": "code",
   "execution_count": 5,
   "metadata": {
    "jupyter": {
     "source_hidden": true
    }
   },
   "outputs": [
    {
     "data": {
      "text/html": [
       "<div>\n",
       "<style scoped>\n",
       "    .dataframe tbody tr th:only-of-type {\n",
       "        vertical-align: middle;\n",
       "    }\n",
       "\n",
       "    .dataframe tbody tr th {\n",
       "        vertical-align: top;\n",
       "    }\n",
       "\n",
       "    .dataframe thead th {\n",
       "        text-align: right;\n",
       "    }\n",
       "</style>\n",
       "<table border=\"1\" class=\"dataframe\">\n",
       "  <thead>\n",
       "    <tr style=\"text-align: right;\">\n",
       "      <th></th>\n",
       "      <th>What is your current level of experience with AI/ML?</th>\n",
       "      <th>How many years of programming experience do you have?</th>\n",
       "      <th>Which programming language(s) are you most comfortable with?</th>\n",
       "    </tr>\n",
       "  </thead>\n",
       "  <tbody>\n",
       "    <tr>\n",
       "      <th>0</th>\n",
       "      <td>1-3 years</td>\n",
       "      <td>4-6 years</td>\n",
       "      <td>Python</td>\n",
       "    </tr>\n",
       "    <tr>\n",
       "      <th>1</th>\n",
       "      <td>1-3 years</td>\n",
       "      <td>4-6 years</td>\n",
       "      <td>Python</td>\n",
       "    </tr>\n",
       "    <tr>\n",
       "      <th>2</th>\n",
       "      <td>&lt;1 year</td>\n",
       "      <td>&lt;1 year</td>\n",
       "      <td>Python</td>\n",
       "    </tr>\n",
       "    <tr>\n",
       "      <th>3</th>\n",
       "      <td>4-6 years</td>\n",
       "      <td>7+ years</td>\n",
       "      <td>Python</td>\n",
       "    </tr>\n",
       "    <tr>\n",
       "      <th>4</th>\n",
       "      <td>&lt;1 year</td>\n",
       "      <td>7+ years</td>\n",
       "      <td>PHP, Javascript</td>\n",
       "    </tr>\n",
       "  </tbody>\n",
       "</table>\n",
       "</div>"
      ],
      "text/plain": [
       "  What is your current level of experience with AI/ML?  \\\n",
       "0                                          1-3 years     \n",
       "1                                          1-3 years     \n",
       "2                                            <1 year     \n",
       "3                                          4-6 years     \n",
       "4                                            <1 year     \n",
       "\n",
       "  How many years of programming experience do you have?  \\\n",
       "0                                          4-6 years      \n",
       "1                                          4-6 years      \n",
       "2                                            <1 year      \n",
       "3                                           7+ years      \n",
       "4                                           7+ years      \n",
       "\n",
       "  Which programming language(s) are you most comfortable with?  \n",
       "0                                             Python            \n",
       "1                                             Python            \n",
       "2                                             Python            \n",
       "3                                             Python            \n",
       "4                                    PHP, Javascript            "
      ]
     },
     "execution_count": 5,
     "metadata": {},
     "output_type": "execute_result"
    }
   ],
   "source": [
    "df_survey.head()"
   ]
  },
  {
   "cell_type": "code",
   "execution_count": 6,
   "metadata": {
    "jupyter": {
     "source_hidden": true
    }
   },
   "outputs": [
    {
     "name": "stdout",
     "output_type": "stream",
     "text": [
      "23\n"
     ]
    }
   ],
   "source": [
    "# response count\n",
    "class_size = 43\n",
    "num_responses = len(df_survey)\n",
    "print(num_responses)"
   ]
  },
  {
   "cell_type": "code",
   "execution_count": 7,
   "metadata": {
    "jupyter": {
     "source_hidden": true
    }
   },
   "outputs": [
    {
     "name": "stdout",
     "output_type": "stream",
     "text": [
      "What is your current level of experience with AI/ML?\n",
      "<1 year      14\n",
      "1-3 years     7\n",
      "4-6 years     1\n",
      "7+ years      1\n",
      "Name: count, dtype: int64\n"
     ]
    }
   ],
   "source": [
    "# AI experience distribution\n",
    "ai_experience = df_survey.iloc[:,0].value_counts()\n",
    "print(ai_experience)"
   ]
  },
  {
   "cell_type": "code",
   "execution_count": 8,
   "metadata": {
    "jupyter": {
     "source_hidden": true
    }
   },
   "outputs": [
    {
     "name": "stdout",
     "output_type": "stream",
     "text": [
      "How many years of programming experience do you have?\n",
      "7+ years     9\n",
      "1-3 years    8\n",
      "<1 year      4\n",
      "4-6 years    2\n",
      "Name: count, dtype: int64\n"
     ]
    }
   ],
   "source": [
    "# coding experience distribution\n",
    "coding_experience = df_survey.iloc[:,1].value_counts()\n",
    "print(coding_experience)"
   ]
  },
  {
   "cell_type": "code",
   "execution_count": 9,
   "metadata": {
    "jupyter": {
     "source_hidden": true
    }
   },
   "outputs": [
    {
     "name": "stdout",
     "output_type": "stream",
     "text": [
      "            Count\n",
      "Language         \n",
      "Python         18\n",
      "C++             7\n",
      "JavaScript      4\n",
      "PHP             3\n",
      "Bash            2\n",
      "Java            2\n",
      "TypeScript      1\n",
      "goLang          1\n",
      "R               1\n",
      "Fortran         1\n",
      "Algol           1\n",
      "Basic           1\n",
      "SQL             1\n",
      "HTML            1\n",
      "CSS             1\n",
      "C#              0\n"
     ]
    }
   ],
   "source": [
    "# coding language distribution\n",
    "\n",
    "# define coding languages\n",
    "lang_list = ['Python', 'PHP', 'JavaScript', 'Bash', 'C++', 'Java', 'TypeScript', 'goLang', 'C#', 'R', 'Fortran', 'Algol', 'Basic', 'SQL', 'HTML', 'CSS']\n",
    "\n",
    "# create a dictionary to store the count for each language\n",
    "lang_dict = {}\n",
    "\n",
    "# count occurrences of each language in the Series\n",
    "for lang in lang_list:\n",
    "    lang_dict[lang] = df_survey.iloc[:,2].str.lower().str.count(r'\\b' + lang.lower() + r'\\b').sum()\n",
    "\n",
    "# convert the counts to a DataFrame for easier readability\n",
    "df_lang = pd.DataFrame(list(lang_dict.items()), columns=['Language', 'Count']).set_index('Language').sort_values(by='Count', ascending=False)\n",
    "print(df_lang)"
   ]
  },
  {
   "cell_type": "markdown",
   "metadata": {},
   "source": [
    "### construct message"
   ]
  },
  {
   "cell_type": "code",
   "execution_count": 10,
   "metadata": {
    "jupyter": {
     "source_hidden": true
    }
   },
   "outputs": [],
   "source": [
    "def remove_first_last_lines(text):\n",
    "    lines = text.splitlines()\n",
    "    return \"\\n\".join(lines[1:-1])\n",
    "\n",
    "def remove_first_two_lines(text):\n",
    "    lines = text.splitlines()\n",
    "    return \"\\n\".join(lines[2:])"
   ]
  },
  {
   "cell_type": "code",
   "execution_count": 11,
   "metadata": {
    "jupyter": {
     "source_hidden": true
    }
   },
   "outputs": [],
   "source": [
    "subject = \"The results are in...\"\n",
    "body = lambda student_name : f\"\"\"Hey {student_name},\n",
    "\n",
    "I wanted to share the pre-course survey results before our first session tomorrow.\n",
    "\n",
    "We had {num_responses} responses out of the {class_size} enrolled ({int(100*round(num_responses/class_size,2))}% response rate).\n",
    "\n",
    "Here's a breakdown of this cohort's incoming experience 👇\n",
    "\n",
    "AI/ML Experience:\n",
    "{remove_first_last_lines(str(ai_experience))}\n",
    "\n",
    "Programming Experience:\n",
    "{remove_first_last_lines(str(coding_experience))}\n",
    "\n",
    "Top Languages:\n",
    "{remove_first_two_lines(str(df_lang[:4]))}\n",
    "\n",
    "Looking forward to meeting you all tomorrow!\n",
    "\n",
    "-Shaw\n",
    "\n",
    "P.S. If you haven't completed the pre-course survey yet, you can access it here: https://forms.gle/YQ5DbbovRUf5Utvc8\"\"\""
   ]
  },
  {
   "cell_type": "code",
   "execution_count": 12,
   "metadata": {
    "jupyter": {
     "source_hidden": true
    }
   },
   "outputs": [
    {
     "name": "stdout",
     "output_type": "stream",
     "text": [
      "Hey Test,\n",
      "\n",
      "I wanted to share the pre-course survey results before our first session tomorrow.\n",
      "\n",
      "We had 23 responses out of the 43 enrolled (53% response rate).\n",
      "\n",
      "Here's a breakdown of this cohort's incoming experience 👇\n",
      "\n",
      "AI/ML Experience:\n",
      "<1 year      14\n",
      "1-3 years     7\n",
      "4-6 years     1\n",
      "7+ years      1\n",
      "\n",
      "Programming Experience:\n",
      "7+ years     9\n",
      "1-3 years    8\n",
      "<1 year      4\n",
      "4-6 years    2\n",
      "\n",
      "Top Languages:\n",
      "Python         18\n",
      "C++             7\n",
      "JavaScript      4\n",
      "PHP             3\n",
      "\n",
      "Looking forward to meeting you all tomorrow!\n",
      "\n",
      "-Shaw\n",
      "\n",
      "P.S. If you haven't completed the pre-course survey yet, you can access it here: https://forms.gle/YQ5DbbovRUf5Utvc8\n"
     ]
    }
   ],
   "source": [
    "subject = \"The results are in...\"\n",
    "print(body(\"Test\"))"
   ]
  },
  {
   "cell_type": "markdown",
   "metadata": {},
   "source": [
    "### send emails"
   ]
  },
  {
   "cell_type": "code",
   "execution_count": 13,
   "metadata": {},
   "outputs": [
    {
     "name": "stdout",
     "output_type": "stream",
     "text": [
      "Email sent successfully to Shaw at shaw@example.com!\n",
      "Email sent successfully to Luca at luca@example.com!\n",
      "Email sent successfully to Elena at elena@example.com!\n"
     ]
    }
   ],
   "source": [
    "# Define your email credentials and recipient\n",
    "sender_email = \"your email here\"\n",
    "password = app_password\n",
    "\n",
    "# Connect to the server\n",
    "with smtplib.SMTP(\"smtp.gmail.com\", 587) as server:\n",
    "    server.starttls()  # Start TLS encryption\n",
    "    server.login(sender_email, password)  # Log into email account\n",
    "\n",
    "    # Send the email to each recipient with personalized content\n",
    "    for name, email in recipients_list:\n",
    "        # Set up the MIME\n",
    "        message = MIMEMultipart()\n",
    "        message[\"From\"] = sender_email\n",
    "        message[\"To\"] = email\n",
    "        message[\"Subject\"] = subject\n",
    "        \n",
    "        # Email body with personalization\n",
    "        personalized_body = body(name)\n",
    "        message.attach(MIMEText(personalized_body, \"plain\"))\n",
    "\n",
    "        # Send the email\n",
    "        server.sendmail(sender_email, email, message.as_string())\n",
    "        print(f\"Email sent successfully to {name} at {email}!\")"
   ]
  },
  {
   "cell_type": "code",
   "execution_count": null,
   "metadata": {},
   "outputs": [],
   "source": []
  }
 ],
 "metadata": {
  "kernelspec": {
   "display_name": "Python 3 (ipykernel)",
   "language": "python",
   "name": "python3"
  },
  "language_info": {
   "codemirror_mode": {
    "name": "ipython",
    "version": 3
   },
   "file_extension": ".py",
   "mimetype": "text/x-python",
   "name": "python",
   "nbconvert_exporter": "python",
   "pygments_lexer": "ipython3",
   "version": "3.12.2"
  }
 },
 "nbformat": 4,
 "nbformat_minor": 4
}
