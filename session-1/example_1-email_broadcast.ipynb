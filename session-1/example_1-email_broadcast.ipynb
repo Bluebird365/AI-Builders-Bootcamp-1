{
 "cells": [
  {
   "cell_type": "markdown",
   "metadata": {},
   "source": [
    "# Replicating Maven Broadcast Function\n",
    "### ABB #1 - Session 1\n",
    "\n",
    "Code authored by: Shaw Talebi"
   ]
  },
  {
   "cell_type": "markdown",
   "metadata": {},
   "source": [
    "### imports"
   ]
  },
  {
   "cell_type": "code",
   "execution_count": 1,
   "metadata": {
    "jupyter": {
     "source_hidden": true
    }
   },
   "outputs": [],
   "source": [
    "import csv\n",
    "\n",
    "import smtplib\n",
    "from email.mime.multipart import MIMEMultipart\n",
    "from email.mime.text import MIMEText\n",
    "\n",
    "from top_secret import app_password"
   ]
  },
  {
   "cell_type": "markdown",
   "metadata": {},
   "source": [
    "### define variables"
   ]
  },
  {
   "cell_type": "code",
   "execution_count": 2,
   "metadata": {
    "jupyter": {
     "source_hidden": true
    }
   },
   "outputs": [],
   "source": [
    "course_name = \"AI Builders Bootcamp\"\n",
    "start_date = \"Nov 8th, 2024\"\n",
    "end_date = \"Dec 20th, 2024\"\n",
    "portal_open_date = \"Nov 4th, 2024\""
   ]
  },
  {
   "cell_type": "markdown",
   "metadata": {},
   "source": [
    "### construct message"
   ]
  },
  {
   "cell_type": "code",
   "execution_count": 3,
   "metadata": {
    "jupyter": {
     "source_hidden": true
    }
   },
   "outputs": [],
   "source": [
    "# construct message template\n",
    "subject = f\"Welcome to {course_name}!\""
   ]
  },
  {
   "cell_type": "code",
   "execution_count": 4,
   "metadata": {
    "jupyter": {
     "source_hidden": true
    }
   },
   "outputs": [],
   "source": [
    "body = lambda student_name : f\"\"\"Hey {student_name},\n",
    "\n",
    "I'm super excited to have you here!\n",
    "\n",
    "We'll be getting started on {start_date} and finishing up on {end_date}.\n",
    "\n",
    "Keep your eye out for the course portal, which will open up on {portal_open_date}.\n",
    "\n",
    "Let me know if you have any questions in the meantime :)\n",
    "\n",
    "-Shaw\"\"\""
   ]
  },
  {
   "cell_type": "code",
   "execution_count": 5,
   "metadata": {
    "jupyter": {
     "source_hidden": true
    }
   },
   "outputs": [
    {
     "name": "stdout",
     "output_type": "stream",
     "text": [
      "Welcome to AI Builders Bootcamp!\n",
      "Hey Shaw,\n",
      "\n",
      "I'm super excited to have you here!\n",
      "\n",
      "We'll be getting started on Nov 8th, 2024 and finishing up on Dec 20th, 2024.\n",
      "\n",
      "Keep your eye out for the course portal, which will open up on Nov 4th, 2024.\n",
      "\n",
      "Let me know if you have any questions in the meantime :)\n",
      "\n",
      "-Shaw\n"
     ]
    }
   ],
   "source": [
    "print(subject)\n",
    "print(body(\"Shaw\"))"
   ]
  },
  {
   "cell_type": "markdown",
   "metadata": {},
   "source": [
    "### read names and emails from .csv file"
   ]
  },
  {
   "cell_type": "code",
   "execution_count": 6,
   "metadata": {
    "jupyter": {
     "source_hidden": true
    }
   },
   "outputs": [
    {
     "name": "stdout",
     "output_type": "stream",
     "text": [
      "[('Shaw', 'shaw@example.com'), ('Luca', 'luca@example.com'), ('Elena', 'elena@example.com')]\n"
     ]
    }
   ],
   "source": [
    "# path to CSV file\n",
    "filename = \"data/emails.csv\"\n",
    "\n",
    "# initialize an empty list to store recipient tuples\n",
    "recipients_list = []\n",
    "\n",
    "# read CSV file and populate the recipients list\n",
    "with open(filename, mode='r') as csvfile:\n",
    "    csv_reader = csv.DictReader(csvfile)\n",
    "    for row in csv_reader:\n",
    "        name = row[\"Name\"].split(\" \")[0]\n",
    "        email = row[\"Email\"]\n",
    "        recipients_list.append((name, email))\n",
    "\n",
    "print(recipients_list)"
   ]
  },
  {
   "cell_type": "markdown",
   "metadata": {},
   "source": [
    "### send email"
   ]
  },
  {
   "cell_type": "code",
   "execution_count": 7,
   "metadata": {},
   "outputs": [
    {
     "name": "stdout",
     "output_type": "stream",
     "text": [
      "Email sent successfully to Shaw at shaw@example.com!\n",
      "Email sent successfully to Luca at luca@example.com!\n",
      "Email sent successfully to Elena at elena@example.com!\n"
     ]
    }
   ],
   "source": [
    "# Define your email credentials and recipient\n",
    "sender_email = \"your email here\"\n",
    "password = app_password\n",
    "\n",
    "# Connect to the server\n",
    "with smtplib.SMTP(\"smtp.gmail.com\", 587) as server:\n",
    "    server.starttls()  # Start TLS encryption\n",
    "    server.login(sender_email, password)  # Log into email account\n",
    "\n",
    "    # Send the email to each recipient with personalized content\n",
    "    for name, email in recipients_list:\n",
    "        # Set up the MIME\n",
    "        message = MIMEMultipart()\n",
    "        message[\"From\"] = sender_email\n",
    "        message[\"To\"] = email\n",
    "        message[\"Subject\"] = subject\n",
    "        \n",
    "        # Email body with personalization\n",
    "        personalized_body = body(name)\n",
    "        message.attach(MIMEText(personalized_body, \"plain\"))\n",
    "\n",
    "        # Send the email\n",
    "        server.sendmail(sender_email, email, message.as_string())\n",
    "        print(f\"Email sent successfully to {name} at {email}!\")"
   ]
  },
  {
   "cell_type": "markdown",
   "metadata": {},
   "source": [
    "Note: to create app password for Gmail follow the following steps.\n",
    "\n",
    "1. Navigate to [Google Account](https://myaccount.google.com/)\n",
    "3. Click on \"2-Step Verification\" under \"How you sign in to Google\"\n",
    "4. Click on right arrow under \"App passwords\"\n",
    "5. Type in new App name and hit \"Create\"\n",
    "\n",
    "Additional support [here](https://support.google.com/mail/answer/185833?hl=en)"
   ]
  },
  {
   "cell_type": "code",
   "execution_count": null,
   "metadata": {},
   "outputs": [],
   "source": []
  }
 ],
 "metadata": {
  "kernelspec": {
   "display_name": "Python 3 (ipykernel)",
   "language": "python",
   "name": "python3"
  },
  "language_info": {
   "codemirror_mode": {
    "name": "ipython",
    "version": 3
   },
   "file_extension": ".py",
   "mimetype": "text/x-python",
   "name": "python",
   "nbconvert_exporter": "python",
   "pygments_lexer": "ipython3",
   "version": "3.12.2"
  }
 },
 "nbformat": 4,
 "nbformat_minor": 4
}
